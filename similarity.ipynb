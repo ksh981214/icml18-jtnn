{
 "cells": [
  {
   "cell_type": "code",
   "execution_count": 1,
   "metadata": {},
   "outputs": [],
   "source": [
    "import numpy as np\n",
    "import pandas as pd\n",
    "from rdkit import DataStructs, Chem\n",
    "from rdkit.Chem import AllChem"
   ]
  },
  {
   "cell_type": "code",
   "execution_count": 2,
   "metadata": {},
   "outputs": [
    {
     "data": {
      "text/plain": [
       "1379"
      ]
     },
     "execution_count": 2,
     "metadata": {},
     "output_type": "execute_result"
    }
   ],
   "source": [
    "save_path = \"./data/l1000/max10/\"\n",
    "smile_name = 'all_max10.txt'\n",
    "smile_list = pd.read_csv(save_path+smile_name,squeeze=True).astype(str).tolist()\n",
    "len(smile_list)"
   ]
  },
  {
   "cell_type": "code",
   "execution_count": 3,
   "metadata": {},
   "outputs": [
    {
     "data": {
      "text/plain": [
       "'CCCC(CCC)C(O)=O'"
      ]
     },
     "execution_count": 3,
     "metadata": {},
     "output_type": "execute_result"
    }
   ],
   "source": [
    "smile_list[0]"
   ]
  },
  {
   "cell_type": "code",
   "execution_count": 4,
   "metadata": {},
   "outputs": [
    {
     "data": {
      "text/plain": [
       "'NCCc1cc[nH]n1'"
      ]
     },
     "execution_count": 4,
     "metadata": {},
     "output_type": "execute_result"
    }
   ],
   "source": [
    "smile_list[4]"
   ]
  },
  {
   "cell_type": "code",
   "execution_count": 5,
   "metadata": {},
   "outputs": [
    {
     "data": {
      "text/plain": [
       "1379"
      ]
     },
     "execution_count": 5,
     "metadata": {},
     "output_type": "execute_result"
    }
   ],
   "source": [
    "fps = [Chem.RDKFingerprint(Chem.MolFromSmiles(x)) for x in smile_list]\n",
    "len(fps)"
   ]
  },
  {
   "cell_type": "code",
   "execution_count": 6,
   "metadata": {},
   "outputs": [
    {
     "data": {
      "text/plain": [
       "False"
      ]
     },
     "execution_count": 6,
     "metadata": {},
     "output_type": "execute_result"
    }
   ],
   "source": [
    "fps[0]==fps[55]"
   ]
  },
  {
   "cell_type": "code",
   "execution_count": 7,
   "metadata": {},
   "outputs": [
    {
     "data": {
      "text/plain": [
       "0.04672897196261682"
      ]
     },
     "execution_count": 7,
     "metadata": {},
     "output_type": "execute_result"
    }
   ],
   "source": [
    "DataStructs.FingerprintSimilarity(fps[0],fps[55])"
   ]
  },
  {
   "cell_type": "code",
   "execution_count": 8,
   "metadata": {},
   "outputs": [],
   "source": [
    "dis_pair={}"
   ]
  },
  {
   "cell_type": "code",
   "execution_count": 80,
   "metadata": {},
   "outputs": [],
   "source": [
    "def find_most_sim_mol(smile_list):\n",
    "    '''\n",
    "        smile_list: list of smiles\n",
    "    '''\n",
    "    most_sim_dict={}\n",
    "    fps = [Chem.RDKFingerprint(Chem.MolFromSmiles(x)) for x in smile_list]\n",
    "    \n",
    "    for i,x in enumerate(fps):\n",
    "        cur_sim = 0\n",
    "        cur_idx = -1\n",
    "        if i not in most_sim_dict:\n",
    "            for j,y in enumerate(fps):\n",
    "                if i!=j and x!=y:\n",
    "                    sim = DataStructs.FingerprintSimilarity(x,y)\n",
    "                    if cur_sim < sim:\n",
    "                        #print(sim)\n",
    "                        cur_sim = sim\n",
    "                        cur_idx = j\n",
    "                        \n",
    "            most_sim_dict[i]=cur_idx\n",
    "            #most_sim_dict[cur_idx]=i\n",
    "#         elif i in most_sim_dict: #already exist\n",
    "#             pass\n",
    "#             print(i)\n",
    "        \n",
    "    return most_sim_dict \n",
    "                \n",
    "                "
   ]
  },
  {
   "cell_type": "code",
   "execution_count": 81,
   "metadata": {},
   "outputs": [
    {
     "data": {
      "text/plain": [
       "1379"
      ]
     },
     "execution_count": 81,
     "metadata": {},
     "output_type": "execute_result"
    }
   ],
   "source": [
    "d= find_most_sim_mol(smile_list)\n",
    "len(d)"
   ]
  },
  {
   "cell_type": "code",
   "execution_count": 82,
   "metadata": {},
   "outputs": [
    {
     "data": {
      "text/plain": [
       "[1023, 1023, 1023, 1023, 535, 1017, 535, 1017, 535, 1017]"
      ]
     },
     "execution_count": 82,
     "metadata": {},
     "output_type": "execute_result"
    }
   ],
   "source": [
    "d.values()[:10]"
   ]
  },
  {
   "cell_type": "code",
   "execution_count": 83,
   "metadata": {},
   "outputs": [
    {
     "data": {
      "text/plain": [
       "['NCCCCCC(O)=O',\n",
       " 'NCCCCCC(O)=O',\n",
       " 'NCCCCCC(O)=O',\n",
       " 'NCCCCCC(O)=O',\n",
       " 'NCCc1ccccn1',\n",
       " 'C1N2CN3CN1CN(C2)C3',\n",
       " 'NCCc1ccccn1',\n",
       " 'C1N2CN3CN1CN(C2)C3',\n",
       " 'NCCc1ccccn1',\n",
       " 'C1N2CN3CN1CN(C2)C3']"
      ]
     },
     "execution_count": 83,
     "metadata": {},
     "output_type": "execute_result"
    }
   ],
   "source": [
    "d.values() \n",
    "\n",
    "lst = [smile_list[idx]for idx in d.values()]\n",
    "lst[:10]"
   ]
  },
  {
   "cell_type": "code",
   "execution_count": 84,
   "metadata": {},
   "outputs": [
    {
     "data": {
      "text/plain": [
       "['CCCC(CCC)C(O)=O',\n",
       " 'CCCC(CCC)C(O)=O',\n",
       " 'CCCC(CCC)C(O)=O',\n",
       " 'CCCC(CCC)C(O)=O',\n",
       " 'NCCc1cc[nH]n1',\n",
       " 'CN(C)C(=N)NC(N)=N',\n",
       " 'NCCc1cc[nH]n1',\n",
       " 'CN(C)C(=N)NC(N)=N',\n",
       " 'NCCc1cc[nH]n1',\n",
       " 'CN(C)C(=N)NC(N)=N']"
      ]
     },
     "execution_count": 84,
     "metadata": {},
     "output_type": "execute_result"
    }
   ],
   "source": [
    "smile_list[:10]"
   ]
  },
  {
   "cell_type": "code",
   "execution_count": 70,
   "metadata": {},
   "outputs": [
    {
     "data": {
      "text/plain": [
       "0.39215686274509803"
      ]
     },
     "execution_count": 70,
     "metadata": {},
     "output_type": "execute_result"
    }
   ],
   "source": [
    "DataStructs.FingerprintSimilarity(Chem.RDKFingerprint(Chem.MolFromSmiles('NCCCCCC(O)=O')),Chem.RDKFingerprint(Chem.MolFromSmiles('CCCC(CCC)C(O)=O')))"
   ]
  },
  {
   "cell_type": "code",
   "execution_count": 75,
   "metadata": {},
   "outputs": [
    {
     "data": {
      "text/plain": [
       "0.39215686274509803"
      ]
     },
     "execution_count": 75,
     "metadata": {},
     "output_type": "execute_result"
    }
   ],
   "source": [
    "DataStructs.FingerprintSimilarity(Chem.RDKFingerprint(Chem.MolFromSmiles('CCCC(CCC)C(O)=O')),Chem.RDKFingerprint(Chem.MolFromSmiles('NCCCCCC(O)=O')))"
   ]
  },
  {
   "cell_type": "code",
   "execution_count": null,
   "metadata": {},
   "outputs": [],
   "source": []
  }
 ],
 "metadata": {
  "kernelspec": {
   "display_name": "Python 2",
   "language": "python",
   "name": "python2"
  },
  "language_info": {
   "codemirror_mode": {
    "name": "ipython",
    "version": 2
   },
   "file_extension": ".py",
   "mimetype": "text/x-python",
   "name": "python",
   "nbconvert_exporter": "python",
   "pygments_lexer": "ipython2",
   "version": "2.7.17"
  }
 },
 "nbformat": 4,
 "nbformat_minor": 2
}
