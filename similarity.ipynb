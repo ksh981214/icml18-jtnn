{
 "cells": [
  {
   "cell_type": "code",
   "execution_count": 4,
   "metadata": {},
   "outputs": [],
   "source": [
    "import pandas as pd\n",
    "from rdkit import DataStructs, Chem\n",
    "from rdkit.Chem import AllChem\n",
    "\n",
    "import argparse\n",
    "\n",
    "from tqdm import tqdm"
   ]
  },
  {
   "cell_type": "code",
   "execution_count": 65,
   "metadata": {},
   "outputs": [
    {
     "name": "stderr",
     "output_type": "stream",
     "text": [
      "105it [00:00, 3485.93it/s]"
     ]
    },
    {
     "name": "stdout",
     "output_type": "stream",
     "text": [
      "./data/l1000/max10/all_max10.txt\n",
      "Full length is 1380\n",
      "Length is 105 after deleting duplicating\n"
     ]
    },
    {
     "name": "stderr",
     "output_type": "stream",
     "text": [
      "\n"
     ]
    }
   ],
   "source": [
    "save_path = \"./data/l1000/max10/\"\n",
    "smiles_file_name = 'train_max10.txt'\n",
    "# smile_list = pd.read_csv(save_path+smile_name,squeeze=True).astype(str).tolist()\n",
    "# len(smile_list)\n",
    "\n",
    "nml=save_neg_mols(save_path, smiles_file_name)"
   ]
  },
  {
   "cell_type": "code",
   "execution_count": 68,
   "metadata": {},
   "outputs": [],
   "source": [
    "def save_neg_mols(save_path, smiles_file_name, use_num=10):\n",
    "    def save_neg_mols_to_txt(lst, save_path, new_file_name):\n",
    "        f = open(save_path + new_file_name,'w')\n",
    "\n",
    "        for l in lst:\n",
    "            line = ''\n",
    "            for idx in l:\n",
    "                line = line + str(idx)+','        \n",
    "            f.write(line[:-1]+'\\n')\n",
    "\n",
    "        f.close()\n",
    "    '''\n",
    "        save_path = ex)  ./data/l1000/max30/\n",
    "        vocab = ex) train_max30.txt\n",
    "    '''\n",
    "    print(save_path + smiles_file_name)\n",
    "    smiles_list = pd.read_csv(save_path + smiles_file_name,squeeze=True, header=None).astype(str).tolist()\n",
    "    print(\"Full length is {}\".format(len(smiles_list)))\n",
    "    \n",
    "    smiles_set = list(set(smiles_list))\n",
    "    print(\"Length is {} after deleting duplicating\".format(len(smiles_set)))\n",
    "\n",
    "    sim_dict={}\n",
    "    fps = [Chem.RDKFingerprint(Chem.MolFromSmiles(x)) for x in smiles_set]\n",
    "\n",
    "    for i,x in tqdm(enumerate(smiles_set)):\n",
    "        comp={}\n",
    "        for j,y in enumerate(smiles_set):\n",
    "            comp[y] = DataStructs.FingerprintSimilarity(fps[i],fps[j])\n",
    "\n",
    "        #Sort by Similarity\n",
    "        comp = sorted(comp.items(), reverse=True,key=lambda item: item[1])\n",
    "        comp = [smi for (smi,sim) in comp[1:use_num+1]] #except myself\n",
    "\n",
    "        sim_dict[smiles_set[i]] = comp\n",
    "        \n",
    "    #save most_sim_dict\n",
    "    negatvie_mols_lst = [sim_dict[smile] for smile in smiles_list]\n",
    "    \n",
    "    save_neg_mols_to_txt(negatvie_mols_lst, save_path, \"negative_\"+smiles_file_name)\n",
    "    #return negatvie_mols_lst"
   ]
  },
  {
   "cell_type": "code",
   "execution_count": 77,
   "metadata": {},
   "outputs": [],
   "source": [
    "def make_n_neg_files(save_path, neg_smiles_file_name, n=5):\n",
    "    neg_smiles_path = save_path + neg_smiles_file_name\n",
    "    neg_smiles_list = pd.read_csv(neg_smiles_path,squeeze=True, header=None)\n",
    "    \n",
    "    for i in range(n):\n",
    "        save_txt(neg_smiles_list[i], save_path, str(i)+\"_neg.txt\")"
   ]
  },
  {
   "cell_type": "code",
   "execution_count": 78,
   "metadata": {},
   "outputs": [
    {
     "data": {
      "text/plain": [
       "1380"
      ]
     },
     "execution_count": 78,
     "metadata": {},
     "output_type": "execute_result"
    }
   ],
   "source": [
    "neg_smiles_file_name = 'negative_all_max10.txt'\n",
    "neg_smiles_list = pd.read_csv(save_path+neg_smiles_file_name,squeeze=True, header=None)\n",
    "len(neg_smiles_list[0].tolist())"
   ]
  },
  {
   "cell_type": "code",
   "execution_count": 79,
   "metadata": {},
   "outputs": [],
   "source": [
    "make_n_neg_files(save_path, neg_smiles_file_name)"
   ]
  },
  {
   "cell_type": "code",
   "execution_count": 86,
   "metadata": {},
   "outputs": [
    {
     "data": {
      "text/plain": [
       "['..', 'data', 'moses', 'train.txt']"
      ]
     },
     "execution_count": 86,
     "metadata": {},
     "output_type": "execute_result"
    }
   ],
   "source": [
    "st = '../data/moses/train.txt'\n",
    "sts = st.split(\"/\")\n",
    "sts"
   ]
  },
  {
   "cell_type": "code",
   "execution_count": 95,
   "metadata": {},
   "outputs": [],
   "source": [
    "st = '../data/moses/train.txt'\n",
    "temp =''\n",
    "for w in st.split('/')[:-1]:\n",
    "    temp += w +'/'"
   ]
  },
  {
   "cell_type": "code",
   "execution_count": 96,
   "metadata": {},
   "outputs": [
    {
     "data": {
      "text/plain": [
       "'../data/moses/'"
      ]
     },
     "execution_count": 96,
     "metadata": {},
     "output_type": "execute_result"
    }
   ],
   "source": [
    "temp"
   ]
  },
  {
   "cell_type": "code",
   "execution_count": null,
   "metadata": {},
   "outputs": [],
   "source": []
  }
 ],
 "metadata": {
  "kernelspec": {
   "display_name": "Python 2",
   "language": "python",
   "name": "python2"
  },
  "language_info": {
   "codemirror_mode": {
    "name": "ipython",
    "version": 2
   },
   "file_extension": ".py",
   "mimetype": "text/x-python",
   "name": "python",
   "nbconvert_exporter": "python",
   "pygments_lexer": "ipython2",
   "version": "2.7.17"
  }
 },
 "nbformat": 4,
 "nbformat_minor": 2
}
