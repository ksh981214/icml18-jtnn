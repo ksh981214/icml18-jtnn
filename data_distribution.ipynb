{
 "cells": [
  {
   "cell_type": "code",
   "execution_count": 1,
   "metadata": {},
   "outputs": [],
   "source": [
    "import numpy as np\n",
    "import pandas as pd\n",
    "import rdkit.Chem as Chem\n",
    "from matplotlib import pyplot as plt"
   ]
  },
  {
   "cell_type": "code",
   "execution_count": 2,
   "metadata": {},
   "outputs": [],
   "source": [
    "def plot_num_atoms(path, name, save=False):\n",
    "    smile_list = pd.read_csv(path,squeeze=True).astype(str).tolist()\n",
    "    \n",
    "    tot=0\n",
    "    atom_num_dict = {}\n",
    "    atom_num_list = []\n",
    "    \n",
    "    longest = 0 \n",
    "    for smile in smile_list: \n",
    "        cnt = Chem.MolFromSmiles(smile).GetNumAtoms()\n",
    "        atom_num_list.append(cnt)\n",
    "        \n",
    "        if cnt > longest:\n",
    "            longest = cnt\n",
    "        \n",
    "        tot = tot + cnt\n",
    "        \n",
    "        if cnt in atom_num_dict.keys():\n",
    "            atom_num_dict[cnt] = atom_num_dict[cnt]+1\n",
    "        else:\n",
    "            atom_num_dict[cnt] = 1    \n",
    "    \n",
    "    print(\"Total num : {}\".format(len(atom_num_list)))\n",
    "    print(\"Mean : {}\".format(np.mean(atom_num_list)))\n",
    "    print(\"Variance : {}\".format(np.var(atom_num_list)))\n",
    "    print(\"Longest : {}\".format(longest))\n",
    "    print(\"Shortest : {}\".format(np.min(atom_num_list)))\n",
    "    \n",
    "    #fill the blank\n",
    "    for l in range(longest+1):\n",
    "        if l not in atom_num_dict.keys():\n",
    "            atom_num_dict[l] = 0\n",
    "    \n",
    "    plt.plot(atom_num_dict.keys(), atom_num_dict.values())\n",
    "    plt.xlabel(\"Atom's num\")\n",
    "    plt.ylabel(\"How many\")\n",
    "    plt.grid()\n",
    "    if save:\n",
    "        plt.savefig('./data_distribution_result/{}.png'.format(name))\n",
    "    plt.show()\n",
    "    \n",
    "    return atom_num_dict"
   ]
  },
  {
   "cell_type": "code",
   "execution_count": 3,
   "metadata": {},
   "outputs": [],
   "source": [
    "def compare_mol_dist(dataA, dataB, nameA, nameB, save=False):\n",
    "    plt.plot(dataA.keys(), dataA.values())\n",
    "    plt.plot(dataB.keys(), dataB.values())\n",
    "    plt.legend([nameA,nameB])\n",
    "    plt.xlabel(\"Atom's num\")\n",
    "    plt.ylabel(\"How many\")\n",
    "    plt.grid()\n",
    "    if save:\n",
    "        plt.savefig('./data_distribution_result/{}_{}.png'.format(nameA,nameB))\n",
    "    plt.show()"
   ]
  },
  {
   "cell_type": "code",
   "execution_count": 4,
   "metadata": {},
   "outputs": [],
   "source": [
    "def cut_off_atoms(path, name, max_length, save=False):\n",
    "    smile_list = pd.read_csv(path,squeeze=True).astype(str).tolist()\n",
    "    \n",
    "    tot=0\n",
    "    atom_num_dict = {}\n",
    "    atom_num_list = []\n",
    "    \n",
    "    longest = 0 \n",
    "    \n",
    "    after_smile_list = []\n",
    "    for smile in smile_list: \n",
    "        cnt = Chem.MolFromSmiles(smile).GetNumAtoms()\n",
    "        \n",
    "        if cnt <= max_length:\n",
    "            after_smile_list.append(smile)\n",
    "        \n",
    "            atom_num_list.append(cnt)\n",
    "\n",
    "            if cnt > longest:\n",
    "                longest = cnt\n",
    "\n",
    "            tot = tot + cnt\n",
    "\n",
    "            if cnt in atom_num_dict.keys():\n",
    "                atom_num_dict[cnt] = atom_num_dict[cnt]+1\n",
    "            else:\n",
    "                atom_num_dict[cnt] = 1    \n",
    "    \n",
    "    print(\"Total num : {}\".format(len(atom_num_list)))\n",
    "    print(\"Mean : {}\".format(np.mean(atom_num_list)))\n",
    "    print(\"Variance : {}\".format(np.var(atom_num_list)))\n",
    "    print(\"Longest : {}\".format(longest))\n",
    "    print(\"Shortest : {}\".format(np.min(atom_num_list)))\n",
    "    \n",
    "    #fill the blank\n",
    "    for l in range(longest+1):\n",
    "        if l not in atom_num_dict.keys():\n",
    "            atom_num_dict[l] = 0\n",
    "    \n",
    "    plt.plot(atom_num_dict.keys(), atom_num_dict.values())\n",
    "    plt.xlabel(\"Atom's num\")\n",
    "    plt.ylabel(\"How many\")\n",
    "    plt.grid()\n",
    "    if save:\n",
    "        plt.savefig('./data_distribution_result/{}.png'.format(name))\n",
    "    plt.show()\n",
    "    \n",
    "    return atom_num_dict, after_smile_list"
   ]
  },
  {
   "cell_type": "code",
   "execution_count": 8,
   "metadata": {},
   "outputs": [
    {
     "name": "stdout",
     "output_type": "stream",
     "text": [
      "Total num : 176333\n",
      "Mean : 29.8800621551\n",
      "Variance : 113.745858316\n",
      "Longest : 170\n",
      "Shortest : 2\n"
     ]
    },
    {
     "data": {
      "image/png": "[encoded data removed]",
      "text/plain": [
       "<Figure size 432x288 with 1 Axes>"
      ]
     },
     "metadata": {
      "needs_background": "light"
     },
     "output_type": "display_data"
    }
   ],
   "source": [
    "path = './data/l1000_121/all.txt'\n",
    "\n",
    "l1000_all =plot_num_atoms(path, \"l1000_all\")\n"
   ]
  },
  {
   "cell_type": "code",
   "execution_count": 6,
   "metadata": {},
   "outputs": [
    {
     "name": "stdout",
     "output_type": "stream",
     "text": [
      "Total num : 220010\n",
      "Mean : 23.1548065997\n",
      "Variance : 20.3159240126\n",
      "Longest : 38\n",
      "Shortest : 6\n"
     ]
    },
    {
     "data": {
      "image/png": "[encoded data removed]",
      "text/plain": [
       "<Figure size 432x288 with 1 Axes>"
      ]
     },
     "metadata": {
      "needs_background": "light"
     },
     "output_type": "display_data"
    }
   ],
   "source": [
    "path = './data/zinc/train.txt'\n",
    "\n",
    "zinc =plot_num_atoms(path, \"zinc_train\")\n"
   ]
  },
  {
   "cell_type": "code",
   "execution_count": 5,
   "metadata": {},
   "outputs": [
    {
     "name": "stdout",
     "output_type": "stream",
     "text": [
      "Total num : 152913\n",
      "Mean : 27.1342135724\n",
      "Variance : 50.4102236883\n",
      "Longest : 40\n",
      "Shortest : 2\n"
     ]
    },
    {
     "data": {
      "image/png": "[encoded data removed]",
      "text/plain": [
       "<Figure size 432x288 with 1 Axes>"
      ]
     },
     "metadata": {
      "needs_background": "light"
     },
     "output_type": "display_data"
    }
   ],
   "source": [
    "path = './data/l1000_121/all.txt'\n",
    "\n",
    "l1000_all_max40, l1000_all_max40_list  =cut_off_atoms(path, \"l1000_all_max40\", 40)"
   ]
  },
  {
   "cell_type": "code",
   "execution_count": null,
   "metadata": {},
   "outputs": [],
   "source": [
    "compare_mol_dist(l1000_all_max40, zinc, \"l1000_all_max40\", \"zinc_train\")"
   ]
  },
  {
   "cell_type": "code",
   "execution_count": null,
   "metadata": {},
   "outputs": [],
   "source": [
    "compare_mol_dist(train_121, zinc, \"l1000_train_121\", \"zinc_train\")"
   ]
  },
  {
   "cell_type": "code",
   "execution_count": null,
   "metadata": {},
   "outputs": [],
   "source": [
    "compare_mol_dist(train_121, l1000_all, \"l1000_train_121\", \"l1000_all\")"
   ]
  },
  {
   "cell_type": "markdown",
   "metadata": {},
   "source": [
    "# List to Text File"
   ]
  },
  {
   "cell_type": "code",
   "execution_count": 11,
   "metadata": {},
   "outputs": [],
   "source": [
    "def save_txt(smile_list, save_path, name):\n",
    "    f = open(save_path+name+\".txt\",'w')\n",
    "    #f.writelines('\\n'.join(smile_list))\n",
    "    \n",
    "    f.write(smile_list[0]+'\\n')\n",
    "    for l in smile_list:\n",
    "        #print(l)\n",
    "        f.write(l+'\\n')\n",
    "    \n",
    "    f.close()"
   ]
  },
  {
   "cell_type": "code",
   "execution_count": 12,
   "metadata": {},
   "outputs": [],
   "source": [
    "save_path = \"./data/l1000_121/max_40/\"\n",
    "name = 'all_max40'\n",
    "\n",
    "save_txt(l1000_all_max40_list, save_path, name)"
   ]
  },
  {
   "cell_type": "markdown",
   "metadata": {},
   "source": [
    "# Split Train, Valid, Test"
   ]
  },
  {
   "cell_type": "code",
   "execution_count": 25,
   "metadata": {},
   "outputs": [],
   "source": [
    "def split_data(all_path):\n",
    "    '''\n",
    "    len(valid) :10000\n",
    "    len(test)  :5000\n",
    "    len(train) :else\n",
    "    '''\n",
    "    smile_list = pd.read_csv(all_path,squeeze=True).astype(str).tolist()\n",
    "    \n",
    "    return smile_list[:-15000], smile_list[-15000:-5000],  smile_list[-5000:]"
   ]
  },
  {
   "cell_type": "code",
   "execution_count": 26,
   "metadata": {},
   "outputs": [],
   "source": [
    "path = './data/l1000_121/max_40/train_max40.txt'\n",
    "tr, v, te=split_data(path)"
   ]
  },
  {
   "cell_type": "markdown",
   "metadata": {},
   "source": [
    "# Save to File"
   ]
  },
  {
   "cell_type": "code",
   "execution_count": 30,
   "metadata": {},
   "outputs": [],
   "source": [
    "save_path = './data/l1000_121/max_40/'\n",
    "\n",
    "save_txt(tr, save_path, \"train_max40\")\n",
    "save_txt(v, save_path, \"valid_max40\")\n",
    "save_txt(te, save_path, \"test_max40\")"
   ]
  },
  {
   "cell_type": "code",
   "execution_count": 35,
   "metadata": {},
   "outputs": [
    {
     "data": {
      "text/plain": [
       "137913"
      ]
     },
     "execution_count": 35,
     "metadata": {},
     "output_type": "execute_result"
    }
   ],
   "source": [
    "path = './data/l1000_121/max_40/train_max40.txt'\n",
    "smile_list = pd.read_csv(path,squeeze=True).astype(str).tolist()\n",
    "len(smile_list)"
   ]
  },
  {
   "cell_type": "code",
   "execution_count": 34,
   "metadata": {},
   "outputs": [
    {
     "data": {
      "text/plain": [
       "137913"
      ]
     },
     "execution_count": 34,
     "metadata": {},
     "output_type": "execute_result"
    }
   ],
   "source": [
    "len(tr)"
   ]
  },
  {
   "cell_type": "code",
   "execution_count": 28,
   "metadata": {},
   "outputs": [
    {
     "data": {
      "text/plain": [
       "10000"
      ]
     },
     "execution_count": 28,
     "metadata": {},
     "output_type": "execute_result"
    }
   ],
   "source": [
    "len(v)"
   ]
  },
  {
   "cell_type": "code",
   "execution_count": 29,
   "metadata": {},
   "outputs": [
    {
     "data": {
      "text/plain": [
       "5000"
      ]
     },
     "execution_count": 29,
     "metadata": {},
     "output_type": "execute_result"
    }
   ],
   "source": [
    "len(te)"
   ]
  },
  {
   "cell_type": "code",
   "execution_count": null,
   "metadata": {},
   "outputs": [],
   "source": []
  }
 ],
 "metadata": {
  "kernelspec": {
   "display_name": "Python 2",
   "language": "python",
   "name": "python2"
  },
  "language_info": {
   "codemirror_mode": {
    "name": "ipython",
    "version": 2
   },
   "file_extension": ".py",
   "mimetype": "text/x-python",
   "name": "python",
   "nbconvert_exporter": "python",
   "pygments_lexer": "ipython2",
   "version": "2.7.17"
  }
 },
 "nbformat": 4,
 "nbformat_minor": 2
}
