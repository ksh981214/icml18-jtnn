{
 "cells": [
  {
   "cell_type": "code",
   "execution_count": 9,
   "metadata": {},
   "outputs": [],
   "source": [
    "import numpy as np\n",
    "import pandas as pd\n",
    "import rdkit.Chem as Chem"
   ]
  },
  {
   "cell_type": "code",
   "execution_count": 16,
   "metadata": {},
   "outputs": [],
   "source": [
    "def get_num_atoms(path):\n",
    "    smile_list = pd.read_csv(path,squeeze=True).astype(str).tolist()\n",
    "    \n",
    "    mol_cnt = 0\n",
    "    tot=0\n",
    "    num_list = []\n",
    "    Longest = 0 \n",
    "    for smile in smile_list:\n",
    "        mol_cnt = mol_cnt + 1 \n",
    "        cnt = Chem.MolFromSmiles(smile).GetNumAtoms()\n",
    "        \n",
    "        if cnt > Longest:\n",
    "            largest = cnt\n",
    "        \n",
    "        tot = tot + cnt\n",
    "        \n",
    "        num_list.append(cnt)\n",
    "        \n",
    "    x_plot = np.arange(Longest+1)\n",
    "    \n",
    "    print(\"Total num : {}\".format(len(num_list)))\n",
    "    print(\"Mean : {}\".format(np.mean(num_list)))\n",
    "    print(\"Variance : {}\".format(np.var(num_list)))\n",
    "    print(\"Longest : {}\".format(Longest))\n",
    "    print(\"shortest : {}\".format(np.min(num_list)))\n",
    "    \n",
    "    \n",
    "    return x_plot, num_list"
   ]
  },
  {
   "cell_type": "code",
   "execution_count": 17,
   "metadata": {},
   "outputs": [],
   "source": [
    "from matplotlib import pyplot as plt\n",
    "\n",
    "def save_KL_plt(save_dir, epoch, x, kl):\n",
    "    plt.plot(x, kl)\n",
    "    plt.xlabel('Iteration')\n",
    "    plt.ylabel('KL divergence')\n",
    "    plt.grid()\n",
    "    plt.savefig('./plot/{}/KL/epoch_{}.png'.format(str(save_dir),str(epoch)))\n",
    "    plt.close()"
   ]
  },
  {
   "cell_type": "code",
   "execution_count": 18,
   "metadata": {},
   "outputs": [
    {
     "name": "stdout",
     "output_type": "stream",
     "text": [
      "64\n",
      "Total num : 4999\n",
      "Mean : 24.0424084817\n",
      "Variance : 77.5381095023\n"
     ]
    }
   ],
   "source": [
    "path = './data/121/test_121.txt'\n",
    "\n",
    "x_plot, y_plot = get_num_atoms(path)"
   ]
  },
  {
   "cell_type": "code",
   "execution_count": 8,
   "metadata": {},
   "outputs": [
    {
     "ename": "AttributeError",
     "evalue": "'module' object has no attribute 'xrange'",
     "output_type": "error",
     "traceback": [
      "\u001b[0;31m---------------------------------------------------------------------------\u001b[0m",
      "\u001b[0;31mAttributeError\u001b[0m                            Traceback (most recent call last)",
      "\u001b[0;32m<ipython-input-8-5f02b99cb096>\u001b[0m in \u001b[0;36m<module>\u001b[0;34m()\u001b[0m\n\u001b[0;32m----> 1\u001b[0;31m \u001b[0mnp\u001b[0m\u001b[0;34m.\u001b[0m\u001b[0mxrange\u001b[0m\u001b[0;34m(\u001b[0m\u001b[0;36m0\u001b[0m\u001b[0;34m)\u001b[0m\u001b[0;34m\u001b[0m\u001b[0m\n\u001b[0m",
      "\u001b[0;31mAttributeError\u001b[0m: 'module' object has no attribute 'xrange'"
     ]
    }
   ],
   "source": []
  },
  {
   "cell_type": "code",
   "execution_count": null,
   "metadata": {},
   "outputs": [],
   "source": []
  }
 ],
 "metadata": {
  "kernelspec": {
   "display_name": "Python 2",
   "language": "python",
   "name": "python2"
  },
  "language_info": {
   "codemirror_mode": {
    "name": "ipython",
    "version": 2
   },
   "file_extension": ".py",
   "mimetype": "text/x-python",
   "name": "python",
   "nbconvert_exporter": "python",
   "pygments_lexer": "ipython2",
   "version": "2.7.17"
  }
 },
 "nbformat": 4,
 "nbformat_minor": 2
}
